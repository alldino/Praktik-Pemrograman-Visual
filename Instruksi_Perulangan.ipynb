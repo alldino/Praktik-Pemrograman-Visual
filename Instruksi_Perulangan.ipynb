{
  "nbformat": 4,
  "nbformat_minor": 0,
  "metadata": {
    "colab": {
      "name": "Instruksi Perulangan",
      "provenance": [],
      "collapsed_sections": [],
      "authorship_tag": "ABX9TyN9ZVe9McnmGs5NRcGq+SSb",
      "include_colab_link": true
    },
    "kernelspec": {
      "name": "python3",
      "display_name": "Python 3"
    }
  },
  "cells": [
    {
      "cell_type": "markdown",
      "metadata": {
        "id": "view-in-github",
        "colab_type": "text"
      },
      "source": [
        "<a href=\"https://colab.research.google.com/github/alldino/Praktik-Pemrograman-Visual/blob/main/Instruksi_Perulangan.ipynb\" target=\"_parent\"><img src=\"https://colab.research.google.com/assets/colab-badge.svg\" alt=\"Open In Colab\"/></a>"
      ]
    },
    {
      "cell_type": "markdown",
      "metadata": {
        "id": "5NrK4I1H4KXC"
      },
      "source": [
        "# Instruksi Perulangan\n",
        "\n",
        "\n",
        "---\n",
        "\n"
      ]
    },
    {
      "cell_type": "markdown",
      "metadata": {
        "id": "ToyaT5CQ4-4X"
      },
      "source": [
        "## While ... End\n",
        "\n",
        "---\n",
        "\n"
      ]
    },
    {
      "cell_type": "code",
      "metadata": {
        "id": "GdWfal1M5xV8"
      },
      "source": [
        "While (Kondisi)\n",
        "    Statement\n",
        "End While"
      ],
      "execution_count": null,
      "outputs": []
    },
    {
      "cell_type": "markdown",
      "metadata": {
        "id": "nmj9sLn96O7a"
      },
      "source": [
        "Konstruksi ini digunakan untuk melakukan eksekusi statement secara berulang selama kondisi bernilai TRUE , maka denga demikian harus ada sebuah statement yang dapat menyebabkan kondisi bernilai False agar perulangan tersebut berhenti. Konstruksi ini cocok digunakan untuk sebuah statement yang perulangannya tidak dapat diketahui secara pasti berapa kali proses perulangan tersebut akan dilakukan. sebagai contoh mari kita coba sebuah program untuk menghitung Mod (sisa bagi) dari suatu bilangan :"
      ]
    },
    {
      "cell_type": "code",
      "metadata": {
        "id": "zyuK-85r6r21"
      },
      "source": [
        "Dim a, b As Integer\n",
        " \n",
        "a= 555\n",
        "b= 3\n",
        " \n",
        "While (a >= b )\n",
        "  a = a Mod b\n",
        "End While\n",
        "\n",
        "Console.WriteLine(\"555 Mod 3 = {0} \", a)"
      ],
      "execution_count": null,
      "outputs": []
    },
    {
      "cell_type": "markdown",
      "metadata": {
        "id": "PxK09pFx4mX4"
      },
      "source": [
        "## Do … Loop\n",
        "\n",
        "---\n",
        "\n"
      ]
    },
    {
      "cell_type": "code",
      "metadata": {
        "id": "nfdKy_ww6_Uv"
      },
      "source": [
        "Do {While/Until} (Kondisi)\n",
        "    Statement\n",
        "Loop"
      ],
      "execution_count": null,
      "outputs": []
    },
    {
      "cell_type": "code",
      "metadata": {
        "id": "hFdhsZWW7CBZ"
      },
      "source": [
        "Do\n",
        "    Statement\n",
        "Loop {While/Until} (Kondisi)"
      ],
      "execution_count": null,
      "outputs": []
    },
    {
      "cell_type": "markdown",
      "metadata": {
        "id": "RmA3YhQO7F3p"
      },
      "source": [
        "Dalam pengulangan Do..Loop harus selalu menyertakan salah satu kata kunci While atau Until. Cara kerja kata kunci While (yang berarti : Selama) dan kata kunci Until (yang berarti : Sampai) pada saat menggunakan kata kunci Until proses pengulangan akan selalu dilakukan selama kondisi bernilai False dan akan dihentikan jika kondisi bernilai True, dengan demikian Until adalah kebalikan dari perulangan While. Untuk lebih memahami  perbedaan antara kunci While dan Until, Perhatikan contoh Program Berikut:"
      ]
    },
    {
      "cell_type": "code",
      "metadata": {
        "id": "tFRcvBg_7JCI"
      },
      "source": [
        "Dim i As Integer\n",
        "Console.WriteLine(\"Do While Loop\")\n",
        "i = 1\n",
        "Do While (i <= 5)\n",
        "    Console.WriteLine(\"{0}\", i * 100)\n",
        "    i += 1\n",
        "Loop\n",
        "Console.WriteLine()\n",
        "Console.WriteLine(\"Do Until Loop\")\n",
        "i = 1\n",
        "Do Until (i > 5)\n",
        "    Console.WriteLine(\"{0}\", i * 100)\n",
        "    i += 1\n",
        "Loop\n",
        "Console.ReadLine()"
      ],
      "execution_count": null,
      "outputs": []
    },
    {
      "cell_type": "markdown",
      "metadata": {
        "id": "bnuqdTbk5NrM"
      },
      "source": [
        "## For .. Next\n",
        "\n",
        "---\n",
        "\n"
      ]
    },
    {
      "cell_type": "code",
      "metadata": {
        "id": "FmhIXnrt7NRr"
      },
      "source": [
        "For Indeks [As Tipe Data] = Nilai Awal To Nilai Akhir [Step step]\n",
        "    Statement\n",
        "Next [Indeks]"
      ],
      "execution_count": null,
      "outputs": []
    },
    {
      "cell_type": "markdown",
      "metadata": {
        "id": "WWYg-3oH7RmN"
      },
      "source": [
        "Statement For .. Next digunakan untuk melakukan pengulangan yang jumlahnya telah ditentukan terlebih dahulu, Misal dari 1 sampai 10. Sebagai contoh untuk statement For .. Next untuk melakukan pengulangan sebanyak 10 kali adalah sebagai berikut :"
      ]
    },
    {
      "cell_type": "code",
      "metadata": {
        "id": "bcEMPrxs7YlT"
      },
      "source": [
        "For i As Integer = 1 To 10 Step 1\n",
        "    Console.Writeline (\"Cara Pertama : {0}\", i)\n",
        "Next i"
      ],
      "execution_count": null,
      "outputs": []
    },
    {
      "cell_type": "code",
      "metadata": {
        "id": "w1fzGpAT7bgK"
      },
      "source": [
        "Dim i As Integer\n",
        "i = 1\n",
        "For i = 1 to 10\n",
        "    Console.Writeline (\"Cara Kedua : {0}\", i)\n",
        "Next"
      ],
      "execution_count": null,
      "outputs": []
    },
    {
      "cell_type": "markdown",
      "metadata": {
        "id": "g6Iq0Yth7g6A"
      },
      "source": [
        "Nilai default untuk Step adalah kelipatan 1 , bisa juga menggunakan nilai kelipatan selain 1 seperti 2 , 3 ,4 dan seterusnya sesuai kebutuhan. Jika dalam pembuatan statement For tidak menggunakan Step maka secara default nilainya adalah kelipatan 1. Ada juga perulangan yang dilakukan secara mundur, seperti pada contoh berikut :"
      ]
    },
    {
      "cell_type": "code",
      "metadata": {
        "id": "hWKeiZhC7joM"
      },
      "source": [
        "For i As Integer = 10 To 1 Step -1\n",
        "    Console.WriteLine(\"{0}\", i)\n",
        "Next"
      ],
      "execution_count": null,
      "outputs": []
    },
    {
      "cell_type": "markdown",
      "metadata": {
        "id": "L633qAr-5W8X"
      },
      "source": [
        "## For Each .. Next\n",
        "\n",
        "---\n",
        "\n"
      ]
    },
    {
      "cell_type": "code",
      "metadata": {
        "id": "lC2SgXrE7lJy"
      },
      "source": [
        "For Each element [As typeData] in Koleksi/array\n",
        "    Statement\n",
        "Next [Element]"
      ],
      "execution_count": null,
      "outputs": []
    },
    {
      "cell_type": "markdown",
      "metadata": {
        "id": "1VW4iWbu7oNE"
      },
      "source": [
        "Statement For Each . . Next adalah pengulangan yang dikhususkan untuk mengakses setiap element yang terdapat di dalam sekumpulan nilai tertentu (Array Maupun Koleksi ) . Proses pengulangan dilakukan dengan cara menelusuri setiap elemen yang terdapat pada suatu Array atau Koleksi dari mulai elemen pertama hingga akhir. Ketika setiap elemen telah ditelusuri maka perulangan berhenti. Berikut contoh program For Each:"
      ]
    },
    {
      "cell_type": "code",
      "metadata": {
        "id": "JxtLpMQe7vAx"
      },
      "source": [
        "Dim ElemenArray() As Integer = {15, 30,40,100}\n",
        " \n",
        "For Each nilai As Integer in ElemenArray\n",
        "    Console.WriteLine( nilai )\n",
        "Next\n",
        " \n",
        "Console.Readline()"
      ],
      "execution_count": null,
      "outputs": []
    },
    {
      "cell_type": "markdown",
      "metadata": {
        "id": "Xh2NOPtw5eVg"
      },
      "source": [
        "### Daftar Pustaka\n",
        "\n",
        "---\n",
        "\n",
        "\n",
        "[ilmukita](http://ilmukita.org/perulangan-di-vb-net/)"
      ]
    }
  ]
}