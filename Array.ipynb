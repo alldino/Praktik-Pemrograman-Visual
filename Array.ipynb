{
  "nbformat": 4,
  "nbformat_minor": 0,
  "metadata": {
    "colab": {
      "name": "Array",
      "provenance": [],
      "collapsed_sections": [],
      "authorship_tag": "ABX9TyMuPaPMc9t9qkwBVn9PZUty",
      "include_colab_link": true
    },
    "kernelspec": {
      "name": "python3",
      "display_name": "Python 3"
    }
  },
  "cells": [
    {
      "cell_type": "markdown",
      "metadata": {
        "id": "view-in-github",
        "colab_type": "text"
      },
      "source": [
        "<a href=\"https://colab.research.google.com/github/alldino/Praktik-Pemrograman-Visual/blob/main/Array.ipynb\" target=\"_parent\"><img src=\"https://colab.research.google.com/assets/colab-badge.svg\" alt=\"Open In Colab\"/></a>"
      ]
    },
    {
      "cell_type": "markdown",
      "metadata": {
        "id": "VZzcJGc0w6dj"
      },
      "source": [
        "# Array\n",
        "\n",
        "---\n",
        "\n"
      ]
    },
    {
      "cell_type": "markdown",
      "metadata": {
        "id": "sJgofIElxSzp"
      },
      "source": [
        "Array adalah sekumpulan data yang memiliki tipe yang sama, sejumlah tetap, serta disusun secara terstruktur dan disimpan dalam satu variabel yang sama, dan diurutkan dengan index."
      ]
    },
    {
      "cell_type": "markdown",
      "metadata": {
        "id": "kugmd3aWw9U9"
      },
      "source": [
        "## Array Satu Dimensi\n",
        "\n",
        "---\n",
        "\n"
      ]
    },
    {
      "cell_type": "markdown",
      "metadata": {
        "id": "p6Hvu23Lxbyx"
      },
      "source": [
        "Suatu array yang nilai dan ukurannya yang sudah ditentukan terlebih dahulu, dan memiliki satu dimensi.\n",
        "Sintaks :"
      ]
    },
    {
      "cell_type": "code",
      "metadata": {
        "id": "wJ8LfXTKxfRo"
      },
      "source": [
        "Dim Array[indeks] As Tipe_Data"
      ],
      "execution_count": null,
      "outputs": []
    },
    {
      "cell_type": "markdown",
      "metadata": {
        "id": "9uWtVD8rxucT"
      },
      "source": [
        "Contoh:"
      ]
    },
    {
      "cell_type": "code",
      "metadata": {
        "id": "M9oBpUUrxvg_"
      },
      "source": [
        "Dim Arr(2) As String\n",
        "Arr(0) = TxtNim.text\n",
        "Arr(1) = TxtNama.Text\n",
        "Arr(2) = TxtProdi.Text"
      ],
      "execution_count": null,
      "outputs": []
    },
    {
      "cell_type": "markdown",
      "metadata": {
        "id": "JpANM-WaxKNJ"
      },
      "source": [
        "## Array Multi Dimensi\n",
        "\n",
        "---\n",
        "\n"
      ]
    },
    {
      "cell_type": "markdown",
      "metadata": {
        "id": "15Ti7-GeyAc3"
      },
      "source": [
        "Suatu array yang fungsinya hampir sama dengan array satu dimensi hanya saja pada array multi dimensi ini mewakili nilai table yang terdiri dari informasi yang diatur dalam baris dan kolom. Untuk mendefenisikan elemen table tertentu, kita harus menentukan dua indeks, pertama mengidentifikasi elemen baris dan yang mengidentifikasi elemen kolom. Array multidimensi memiliki lebih dari dua dimensi.\n",
        "Sintaks :"
      ]
    },
    {
      "cell_type": "code",
      "metadata": {
        "id": "s04Vsp-JyIzL"
      },
      "source": [
        "Dim Array[indeks, indeks] As Tipe_Data\n",
        "Dim Array[indeks, indeks, indeks] As Tipe_Data"
      ],
      "execution_count": null,
      "outputs": []
    },
    {
      "cell_type": "markdown",
      "metadata": {
        "id": "ZzqUZKV9yYgL"
      },
      "source": [
        "Contoh:"
      ]
    },
    {
      "cell_type": "code",
      "metadata": {
        "id": "aWLUsHIXyaMZ"
      },
      "source": [
        "Dim Arr(3,1) As String\n",
        "Arr(0,0) = \"NIM\"\n",
        "Arr(0,1) = \"NAMA\"\n",
        "Arr(1,0) = \"JENIS KELAMIN\"\n",
        "Arr(1,1) = \"PRODI\"\n",
        "Arr(2,0) = \"Laki-Laki\"\n",
        "Arr(2,1) = \"Perempuan\"\n",
        "Arr(3,0) = \"Manajemen Informatika\"\n",
        "Arr(3,1) = \"Teknik Informatika\""
      ],
      "execution_count": null,
      "outputs": []
    },
    {
      "cell_type": "markdown",
      "metadata": {
        "id": "_NIdx9FkEq_0"
      },
      "source": [
        "## Praktikum - 1\n",
        "\n",
        "---\n",
        "\n"
      ]
    },
    {
      "cell_type": "code",
      "metadata": {
        "id": "U76zUboWE4O0"
      },
      "source": [
        ""
      ],
      "execution_count": null,
      "outputs": []
    }
  ]
}